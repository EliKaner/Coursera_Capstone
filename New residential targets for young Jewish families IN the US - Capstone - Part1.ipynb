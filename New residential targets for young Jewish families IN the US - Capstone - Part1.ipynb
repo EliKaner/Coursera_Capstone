{
 "cells": [
  {
   "cell_type": "markdown",
   "metadata": {},
   "source": [
    "### New residential targets for young Jewish families IN the U.S"
   ]
  },
  {
   "cell_type": "markdown",
   "metadata": {},
   "source": [
    "# Business Understanding"
   ]
  },
  {
   "cell_type": "markdown",
   "metadata": {},
   "source": [
    "When a young couple is looking for a residential environment, planning their future and raising their children, it will take into account parameters such as the cost of housing, the cost of living, the nature of the neighborhood and so on.  \n",
    "\n",
    "For a religious Jewish family, the challenge is much more difficult.  \n",
    "They are also required to take into account a Jewish community that fits their lifestyle, a synagogue within walking distance, appropriate educational institutions, service providers and shops that match and serve the Jewish way of life.  \n",
    "However, in the large concentrations of Jewish communities in the United States, the overcrowding is high, the cost of living climbs, and it is very difficult to find apartments at a reasonable price.  \n",
    "Therefore, many young families are trying to find a suitable residential and community environment in small and remote places from the large centers, but still the basic conditions that a Jewish family needs will exist.  \n",
    "If so, the problem I want to help solve is:  \n",
    "What are the favorite places to live for a Jewish family in the United States, outside of the large Jewish communities..\n",
    "We will divide the Jewish communities into clusters according to criteria such as the size of the Jewish community, proximity to educational institutions, synagogues, kosher food and more.  \n",
    "According to the division, the preferred places for the Jewish family were determined"
   ]
  },
  {
   "cell_type": "markdown",
   "metadata": {},
   "source": [
    "# Data Section"
   ]
  },
  {
   "cell_type": "markdown",
   "metadata": {},
   "source": [
    "### Part 1"
   ]
  },
  {
   "cell_type": "markdown",
   "metadata": {},
   "source": [
    "In this part, I would like to find data on the various communities across the United States, their size, average age, community development over the years, and more details as far as I can find.  \n",
    "The goal is to identify young and developing communities outside the larger communities.  "
   ]
  },
  {
   "cell_type": "markdown",
   "metadata": {},
   "source": [
    "1. Wikipedia  \n",
    "2. Data from the World Jewish Congress website  \n",
    "3. BERMAN JEWISH DATABANK "
   ]
  },
  {
   "cell_type": "markdown",
   "metadata": {},
   "source": [
    "Example of population table by communities - Wikipedia"
   ]
  },
  {
   "cell_type": "markdown",
   "metadata": {},
   "source": [
    "<table class=\"wikitable sortable\">\n",
    "<caption><b>Metropolitan areas with largest Jewish populations (2015)</b>\n",
    "</caption>\n",
    "<tbody><tr>\n",
    "<th colspan=\"2\">Rank\n",
    "</th>\n",
    "<th rowspan=\"2\">Metro area\n",
    "</th>\n",
    "<th colspan=\"2\">Number of Jews\n",
    "</th></tr>\n",
    "<tr>\n",
    "<th>(<a href=\"/wiki/World_Jewish_Congress\" title=\"World Jewish Congress\">WJC</a>)<sup id=\"cite_ref-metroareas_64-1\" class=\"reference\"><a href=\"#cite_note-metroareas-64\">&#91;64&#93;</a></sup>\n",
    "</th>\n",
    "<th>(ARDA)<sup id=\"cite_ref-asarb_67-0\" class=\"reference\"><a href=\"#cite_note-asarb-67\">&#91;66&#93;</a></sup>\n",
    "</th>\n",
    "<th>(WJC)\n",
    "</th>\n",
    "<th>(ASARB)\n",
    "</th></tr>\n",
    "<tr>\n",
    "<td align=\"center\">1\n",
    "</td>\n",
    "<td align=\"center\">1\n",
    "</td>\n",
    "<td><a href=\"/wiki/New_York_metropolitan_area\" title=\"New York metropolitan area\">New York City</a>\n",
    "</td>\n",
    "<td align=\"right\">1,750,000\n",
    "</td>\n",
    "<td align=\"right\">2,028,200\n",
    "</td></tr>\n",
    "<tr>\n",
    "<td align=\"center\">2\n",
    "</td>\n",
    "<td align=\"center\">3\n",
    "</td>\n",
    "<td><a href=\"/wiki/South_Florida_metropolitan_area\" class=\"mw-redirect\" title=\"South Florida metropolitan area\">Miami</a>\n",
    "</td>\n",
    "<td align=\"right\">535,000\n",
    "</td>\n",
    "<td align=\"right\">337,000\n",
    "</td></tr>\n",
    "<tr>\n",
    "<td align=\"center\">3\n",
    "</td>\n",
    "<td align=\"center\">2\n",
    "</td>\n",
    "<td><a href=\"/wiki/Greater_Los_Angeles_Area\" class=\"mw-redirect\" title=\"Greater Los Angeles Area\">Los Angeles</a>\n",
    "</td>\n",
    "<td align=\"right\">490,000\n",
    "</td>\n",
    "<td align=\"right\">662,450\n",
    "</td></tr>\n",
    "<tr>\n",
    "<td align=\"center\">4\n",
    "</td>\n",
    "<td align=\"center\">4\n",
    "</td>\n",
    "<td><a href=\"/wiki/Delaware_Valley\" title=\"Delaware Valley\">Philadelphia</a>\n",
    "</td>\n",
    "<td align=\"right\">254,000\n",
    "</td>\n",
    "<td align=\"right\">285,950\n",
    "</td></tr>\n",
    "<tr>\n",
    "<td align=\"center\">5\n",
    "</td>\n",
    "<td align=\"center\">6\n",
    "</td>\n",
    "<td><a href=\"/wiki/Chicago_metropolitan_area\" title=\"Chicago metropolitan area\">Chicago</a>\n",
    "</td>\n",
    "<td align=\"right\">248,000\n",
    "</td>\n",
    "<td align=\"right\">265,400\n",
    "</td></tr>\n",
    "<tr>\n",
    "<td align=\"center\">6\n",
    "</td>\n",
    "<td align=\"center\">8\n",
    "</td>\n",
    "<td><a href=\"/wiki/San_Francisco_Bay_Area\" title=\"San Francisco Bay Area\">San Francisco</a>\n",
    "</td>\n",
    "<td align=\"right\">210,000\n",
    "</td>\n",
    "<td align=\"right\">218,700\n",
    "</td></tr>\n",
    "<tr>\n",
    "<td align=\"center\">7\n",
    "</td>\n",
    "<td align=\"center\">7\n",
    "</td>\n",
    "<td><a href=\"/wiki/Greater_Boston\" title=\"Greater Boston\">Boston</a>\n",
    "</td>\n",
    "<td align=\"right\">208,000\n",
    "</td>\n",
    "<td align=\"right\">261,100\n",
    "</td></tr>\n",
    "<tr>\n",
    "<td align=\"center\">8\n",
    "</td>\n",
    "<td align=\"center\">5\n",
    "</td>\n",
    "<td><a href=\"/wiki/Baltimore%E2%80%93Washington_Metropolitan_Area\" class=\"mw-redirect\" title=\"Baltimore–Washington Metropolitan Area\">Baltimore–Washington</a>\n",
    "</td>\n",
    "<td align=\"right\">165,000\n",
    "</td>\n",
    "<td align=\"right\">276,445\n",
    "</td></tr></tbody></table>"
   ]
  },
  {
   "cell_type": "code",
   "execution_count": null,
   "metadata": {},
   "outputs": [],
   "source": [
    "### Part 2"
   ]
  },
  {
   "cell_type": "markdown",
   "metadata": {},
   "source": [
    "**FOURSQUARE**  "
   ]
  },
  {
   "cell_type": "markdown",
   "metadata": {},
   "source": [
    "from FOURSQUARE I would like to find which services / shops / restaurants exist in the area, for the Jewish community.  \n",
    "For example, are there synagogues in the area, and some. Some kosher restaurants, Jewish schools and so on.  \n",
    "Of course, the more developed the community, the more services and other things, and accordingly, it would be better to live in it."
   ]
  },
  {
   "cell_type": "markdown",
   "metadata": {},
   "source": [
    "My goal is to divide the various communities into clusters, according to the various services they find, and thus to identify the developing and suitable communities."
   ]
  },
  {
   "cell_type": "code",
   "execution_count": null,
   "metadata": {},
   "outputs": [],
   "source": []
  }
 ],
 "metadata": {
  "kernelspec": {
   "display_name": "Python 3",
   "language": "python",
   "name": "python3"
  },
  "language_info": {
   "codemirror_mode": {
    "name": "ipython",
    "version": 3
   },
   "file_extension": ".py",
   "mimetype": "text/x-python",
   "name": "python",
   "nbconvert_exporter": "python",
   "pygments_lexer": "ipython3",
   "version": "3.7.1"
  }
 },
 "nbformat": 4,
 "nbformat_minor": 2
}
